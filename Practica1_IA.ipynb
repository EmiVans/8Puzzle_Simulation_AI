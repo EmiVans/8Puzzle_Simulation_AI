{
  "nbformat": 4,
  "nbformat_minor": 0,
  "metadata": {
    "colab": {
      "provenance": []
    },
    "kernelspec": {
      "name": "python3",
      "display_name": "Python 3"
    },
    "language_info": {
      "name": "python"
    }
  },
  "cells": [
    {
      "cell_type": "markdown",
      "source": [
        "## Práctica 1 IA\n",
        "\n",
        "Brandon Imanol Regalado Urbina\n",
        "\n",
        "Vazquez Amador Daniel Emiliano\n",
        "\n",
        "Arroyo Lozano Santiago\n",
        "\n",
        "Valencia Cruz Jonathan Josué\n",
        "\n",
        "Luis Gerardo Estrada García\n"
      ],
      "metadata": {
        "id": "mAZy14cDp5er"
      }
    },
    {
      "cell_type": "markdown",
      "source": [
        "#### 1. Programar la simulacion del juego del 8-Puzzle. Determinar como estado final el siguiente:\n",
        "\n",
        "#####[1|2|3]\n",
        "#####[4|5|6]\n",
        "#####[7|8|e]"
      ],
      "metadata": {
        "id": "YdAw7kvQp3VE"
      }
    },
    {
      "cell_type": "code",
      "source": [
        "\n",
        "class Puzzle8:\n",
        "    def __init__(self, state, parent=None, action=None):\n",
        "        self.state = state\n",
        "        self.parent = parent\n",
        "        self.action = action\n",
        "\n",
        "    def __str__(self):\n",
        "        return \"\\n\".join([\"|\".join(map(str, row)) for row in self.state])  #Cada número será una cadena\n",
        "\n",
        "    def find_empty(self):\n",
        "        for i in range(3):\n",
        "            for j in range(3):\n",
        "                if self.state[i][j] == 'e': #Guarda el elemento que moveremos\n",
        "                    return i, j\n",
        "\n",
        "    def move(self, direction): #Determina la nueva posición de 'e' y el tablero según las posibles acciones\n",
        "        i, j = self.find_empty()\n",
        "\n",
        "        if direction == 'up' and i > 0: #'e' No se puede mover arriba si está en la primera fila\n",
        "            new_state = [row[:] for row in self.state]\n",
        "            new_state[i][j], new_state[i - 1][j] = new_state[i - 1][j], new_state[i][j]\n",
        "            return Puzzle8(new_state, self, 'up')\n",
        "\n",
        "        elif direction == 'down' and i < 2:\n",
        "            new_state = [row[:] for row in self.state]\n",
        "            new_state[i][j], new_state[i + 1][j] = new_state[i + 1][j], new_state[i][j]\n",
        "            return Puzzle8(new_state, self, 'down')\n",
        "\n",
        "        elif direction == 'left' and j > 0:\n",
        "            new_state = [row[:] for row in self.state]\n",
        "            new_state[i][j], new_state[i][j - 1] = new_state[i][j - 1], new_state[i][j]\n",
        "            return Puzzle8(new_state, self, 'left')\n",
        "\n",
        "        elif direction == 'right' and j < 2:\n",
        "            new_state = [row[:] for row in self.state]\n",
        "            new_state[i][j], new_state[i][j + 1] = new_state[i][j + 1], new_state[i][j]\n",
        "            return Puzzle8(new_state, self, 'right')\n",
        "\n",
        "        else:\n",
        "            return None #En caso de no haber movimientos posibles\n",
        "\n",
        "    def is_goal_state(self):\n",
        "        estado_final = [\n",
        "            [1, 2, 3],\n",
        "            [4, 5, 6],\n",
        "            [7, 8, 'e']\n",
        "        ]\n",
        "        return self.state == estado_final\n",
        "\n",
        "    def get_solucion(self): #Guardamos el estado final y con los padres el camino hasta el nodo inicial\n",
        "        solucion = []\n",
        "        actual = self\n",
        "        while actual:\n",
        "            solucion.append((actual.action, actual.state))\n",
        "            actual = actual.parent\n",
        "        return reversed(solucion)\n",
        "\n"
      ],
      "metadata": {
        "id": "Ulm2CKEHvS5a"
      },
      "execution_count": null,
      "outputs": []
    },
    {
      "cell_type": "markdown",
      "source": [
        "#### 2. Usar el algoritmo de primero en profundidad para obtener la solucion dado el estado inicial:\n",
        "\n",
        "##### [1|e|2]\n",
        "#####[6|3|4]\n",
        "#####[7|5|8]"
      ],
      "metadata": {
        "id": "4Ua95SDOqrtg"
      }
    },
    {
      "cell_type": "code",
      "source": [
        "#Algoritmo primero en profundidad--------------------------------------------------------------------------------------------------------\n",
        "def dfs(initial_state):\n",
        "    stack = [Puzzle8(initial_state)]\n",
        "    visited = set() #Guardamos los visitados\n",
        "    num_nodos = 0  #Contamos cuantos hemos visatod\n",
        "\n",
        "    while stack: #Mientras la pila no esté vacía saca el último\n",
        "        current_puzzle = stack.pop()\n",
        "        visited.add(str(current_puzzle.state))\n",
        "\n",
        "        if current_puzzle.is_goal_state(): #Goal test\n",
        "            return current_puzzle.get_solucion(), num_nodos\n",
        "\n",
        "        for direction in ['up', 'down', 'left', 'right']: #Itera sobre todos los nodos y revisa si han sido visiados\n",
        "            child = current_puzzle.move(direction)\n",
        "            if child and str(child.state) not in visited:\n",
        "                stack.append(child)\n",
        "                num_nodos +=1\n",
        "\n",
        "    return None\n",
        "\n",
        "# Estado inicial\n",
        "estado_inicial = [\n",
        "    [1, 'e', 2],\n",
        "    [6, 3, 4],\n",
        "    [7, 5, 8]\n",
        "]\n",
        "\n",
        "# Resolución utilizando DFS\n",
        "solucion = dfs(estado_inicial)\n",
        "\n",
        "# Imprimir la solución\n",
        "#Contador de nodos\n",
        "print(\"Primero en profundidad\")\n",
        "if solucion:\n",
        "#   for step, state in solucion[0]: print(f\"Acción: {step}\\n{Puzzle8(state)}\\n\")  # Es para ver las acciones que se hicieron\n",
        "  print(\"Encontró una solución\")\n",
        "else:\n",
        "  print(\"No se encontró solución.\")\n",
        "\n",
        "nodos_dfs = solucion[1]\n",
        "print(\"Los nodos expandidos fueron: \"+ str(nodos_dfs))\n"
      ],
      "metadata": {
        "colab": {
          "base_uri": "https://localhost:8080/"
        },
        "id": "CxOZf0Lcx7Lz",
        "outputId": "ea13d95b-3dbf-41d1-8f20-02f54ecb722a"
      },
      "execution_count": null,
      "outputs": [
        {
          "output_type": "stream",
          "name": "stdout",
          "text": [
            "Primero en profundidad\n",
            "Encontró una solución\n",
            "Los nodos expandidos fueron: 216073\n"
          ]
        }
      ]
    },
    {
      "cell_type": "markdown",
      "source": [
        "#### 3. Usar el algoritmo de primero en amplitud para obtener la solucion dado el estado inicial anterior."
      ],
      "metadata": {
        "id": "DEGTuNSCrdsh"
      }
    },
    {
      "cell_type": "code",
      "source": [
        "#Algoritmo primero en profundidad--------------------------------------------------------------------------------------------------------\n",
        "from collections import deque\n",
        "\n",
        "def bfs(problema):\n",
        "   nodo = Puzzle8(problema)\n",
        "   nodo.state = problema\n",
        "   num_nodos = 0 #Cuenta el numero de nodos expandidos\n",
        "\n",
        "   #Verifica si el estado es meta\n",
        "   if nodo.is_goal_state():\n",
        "      return nodo.get_solution(),num_nodos\n",
        "\n",
        "   cola = deque([nodo]) #Esta es la cola de ejecucion\n",
        "   state_str = str(nodo.state) #Convierte el estado del nodo en un string para\n",
        "                               #Para poder usarlo como clave de un diccionario\n",
        "   reached = {state_str: nodo} #Diccionario que guarda los estados ya alcanzados\n",
        "\n",
        "  #Mientras la cola no sea vacia se ejecuta el algoritmo\n",
        "   while len(cola) > 0:\n",
        "      nodo_actual = cola.popleft()\n",
        "      for direccion in [\"up\", \"down\", \"left\", \"right\"]:\n",
        "         hijo = nodo_actual.move(direccion)\n",
        "         if hijo is not None:\n",
        "            num_nodos += 1\n",
        "            if hijo.is_goal_state():\n",
        "\n",
        "              #Devuelve la solucion\n",
        "               return hijo.get_solucion(),num_nodos\n",
        "\n",
        "            hijo_str = str(hijo.state)\n",
        "            if hijo_str not in reached:\n",
        "               reached[hijo_str] = hijo\n",
        "               cola.append(hijo)\n",
        "\n",
        "   return \"No se ha logrado llegar a un estado final.\""
      ],
      "metadata": {
        "id": "NqvagMl7XBpT"
      },
      "execution_count": null,
      "outputs": []
    },
    {
      "cell_type": "code",
      "source": [
        "estado_inicial = [\n",
        "    [1, 'e', 2],\n",
        "    [6, 3, 4],\n",
        "    [7, 5, 8]\n",
        "]\n",
        "solucion,nodos_bfs = bfs(estado_inicial)\n",
        "\n",
        "print(nodos_bfs)\n",
        "for paso, estado in solucion:\n",
        "    print(f\"Paso: {paso}\")\n",
        "    # Aquí puedes personalizar cómo se imprime el estado, dependiendo de tu estructura\n",
        "    for fila in estado:\n",
        "        print(fila)\n",
        "    print()"
      ],
      "metadata": {
        "id": "WWBOsoL-XIFu",
        "colab": {
          "base_uri": "https://localhost:8080/"
        },
        "outputId": "067f62af-3a7b-4500-bcf6-e122b171281b"
      },
      "execution_count": null,
      "outputs": [
        {
          "output_type": "stream",
          "name": "stdout",
          "text": [
            "14209\n",
            "Paso: None\n",
            "[1, 'e', 2]\n",
            "[6, 3, 4]\n",
            "[7, 5, 8]\n",
            "\n",
            "Paso: right\n",
            "[1, 2, 'e']\n",
            "[6, 3, 4]\n",
            "[7, 5, 8]\n",
            "\n",
            "Paso: down\n",
            "[1, 2, 4]\n",
            "[6, 3, 'e']\n",
            "[7, 5, 8]\n",
            "\n",
            "Paso: left\n",
            "[1, 2, 4]\n",
            "[6, 'e', 3]\n",
            "[7, 5, 8]\n",
            "\n",
            "Paso: left\n",
            "[1, 2, 4]\n",
            "['e', 6, 3]\n",
            "[7, 5, 8]\n",
            "\n",
            "Paso: up\n",
            "['e', 2, 4]\n",
            "[1, 6, 3]\n",
            "[7, 5, 8]\n",
            "\n",
            "Paso: right\n",
            "[2, 'e', 4]\n",
            "[1, 6, 3]\n",
            "[7, 5, 8]\n",
            "\n",
            "Paso: right\n",
            "[2, 4, 'e']\n",
            "[1, 6, 3]\n",
            "[7, 5, 8]\n",
            "\n",
            "Paso: down\n",
            "[2, 4, 3]\n",
            "[1, 6, 'e']\n",
            "[7, 5, 8]\n",
            "\n",
            "Paso: left\n",
            "[2, 4, 3]\n",
            "[1, 'e', 6]\n",
            "[7, 5, 8]\n",
            "\n",
            "Paso: up\n",
            "[2, 'e', 3]\n",
            "[1, 4, 6]\n",
            "[7, 5, 8]\n",
            "\n",
            "Paso: left\n",
            "['e', 2, 3]\n",
            "[1, 4, 6]\n",
            "[7, 5, 8]\n",
            "\n",
            "Paso: down\n",
            "[1, 2, 3]\n",
            "['e', 4, 6]\n",
            "[7, 5, 8]\n",
            "\n",
            "Paso: right\n",
            "[1, 2, 3]\n",
            "[4, 'e', 6]\n",
            "[7, 5, 8]\n",
            "\n",
            "Paso: down\n",
            "[1, 2, 3]\n",
            "[4, 5, 6]\n",
            "[7, 'e', 8]\n",
            "\n",
            "Paso: right\n",
            "[1, 2, 3]\n",
            "[4, 5, 6]\n",
            "[7, 8, 'e']\n",
            "\n"
          ]
        }
      ]
    },
    {
      "cell_type": "markdown",
      "source": [
        "#### 4. Compara el numero de nodos expandidos entre el algoritmo de primero en profundidad y primero en amplitud."
      ],
      "metadata": {
        "id": "Y4aeLrQ8rf_k"
      }
    },
    {
      "cell_type": "markdown",
      "source": [
        "Afortunadamente podemos revisar la expansión de los incisos anteriores facilmente. Los resultados reflejan una clara ventaja de BFS sobre DFS"
      ],
      "metadata": {
        "id": "4NOdBRKEPlpC"
      }
    },
    {
      "cell_type": "code",
      "source": [
        "print(\"Número de nodos DFS:\", nodos_dfs)\n",
        "print(\"Número de nodos BFS:\", nodos_bfs)"
      ],
      "metadata": {
        "id": "2CFyoduqrgYq",
        "colab": {
          "base_uri": "https://localhost:8080/"
        },
        "outputId": "32eecdc2-65c1-49e4-f3e5-7d2e46d32574"
      },
      "execution_count": null,
      "outputs": [
        {
          "output_type": "stream",
          "name": "stdout",
          "text": [
            "Número de nodos DFS: 216073\n",
            "Número de nodos BFS: 14209\n"
          ]
        }
      ]
    },
    {
      "cell_type": "markdown",
      "source": [
        "#### 5. Aplicar el algoritmo de A∗ pesado con la heurística de la distancia Manhattan para encontrar una solucion dado el estado inicial:\n",
        "\n",
        "##### [5|4|2]\n",
        "##### [3|1|7]\n",
        "##### [e|6|8]"
      ],
      "metadata": {
        "id": "kqqFmvGGrgsa"
      }
    },
    {
      "cell_type": "markdown",
      "source": [
        "###### Funciones heurística y costos"
      ],
      "metadata": {
        "id": "HLeMTTrLA4Vc"
      }
    },
    {
      "cell_type": "code",
      "source": [
        "# Definimos la heurística\n",
        "def hmanhattan(n1):\n",
        "  lista1 = []\n",
        "  distancia = 0\n",
        "  for i in range(3):\n",
        "    for j in range(3):\n",
        "      if n1[i][j]=='e':\n",
        "        lista1.append(9)\n",
        "      else:\n",
        "        lista1.append(n1[i][j])\n",
        "\n",
        "  for i in range(9):\n",
        "    distancia += abs(lista1[i]-(i+1))\n",
        "\n",
        "  return distancia\n",
        "\n",
        "\n",
        "# Definimos la función de costos\n",
        "def costos(n1,n2):\n",
        "  lista1 = []\n",
        "  lista2 = []\n",
        "  distancia = 0\n",
        "  for i in range(3):\n",
        "    for j in range(3):\n",
        "      if n1[i][j] == 'e':\n",
        "        lista1.append(9)\n",
        "      else:\n",
        "        lista1.append(n1[i][j])\n",
        "  for i in range(3):\n",
        "    for j in range(3):\n",
        "      if n2[i][j] == 'e':\n",
        "        lista2.append(9)\n",
        "      else:\n",
        "        lista2.append(n2[i][j])\n",
        "\n",
        "  for i in range(9):\n",
        "    distancia += abs(lista1[i]-lista2[i])\n",
        "\n",
        "  return distancia"
      ],
      "metadata": {
        "id": "-DEEwxAKrhBM"
      },
      "execution_count": null,
      "outputs": []
    },
    {
      "cell_type": "markdown",
      "source": [
        "##### Algoritmo de A* pesado"
      ],
      "metadata": {
        "id": "mevxoel7BFvS"
      }
    },
    {
      "cell_type": "code",
      "source": [
        "#Algoritmo A* pesado\n",
        "\n",
        "def Ap(initial_state,peso):\n",
        "  stack = [Puzzle8(initial_state)]\n",
        "  visited = set()\n",
        "  num_nodos = 0\n",
        "  fs = [peso*hmanhattan(initial_state)]\n",
        "\n",
        "  while stack:\n",
        "    n = fs.index(min(fs))\n",
        "    node = stack.pop(n)\n",
        "    fs.pop(n)\n",
        "    visited.add(str(node.state))\n",
        "    #Se comprueba si es solución\n",
        "    if node.is_goal_state():\n",
        "      return node.get_solucion(),num_nodos\n",
        "    #Si no es solución, se expande\n",
        "    elif node.is_goal_state() == False:\n",
        "      for direction in ['up', 'down', 'left', 'right']:\n",
        "        child = node.move(direction)\n",
        "        if child and str(child.state) not in visited:\n",
        "          stack.append(child)\n",
        "          fs.append(costos(initial_state, child.state)+peso*hmanhattan(child.state))\n",
        "          num_nodos +=1\n",
        "\n",
        "  return None"
      ],
      "metadata": {
        "id": "4BYCikaIAqxz"
      },
      "execution_count": null,
      "outputs": []
    },
    {
      "cell_type": "markdown",
      "source": [
        "##### Algoritmo con los distintos pesos"
      ],
      "metadata": {
        "id": "9qZlErLLBPj5"
      }
    },
    {
      "cell_type": "code",
      "source": [
        "estado_inicial = [\n",
        "    [5, 4, 2],\n",
        "    [3, 1, 7],\n",
        "    ['e', 6, 8]\n",
        "]\n",
        "\n",
        "\n",
        "solucion1 = Ap(estado_inicial,0)\n",
        "solucion2 = Ap(estado_inicial,0.8)\n",
        "solucion3 = Ap(estado_inicial,1)\n",
        "\n",
        "print(\"A* Pesado\")\n",
        "if solucion1:\n",
        "  print(\"Encontró una solución para un peso de 0\")\n",
        "else:\n",
        "  print(\"No encontró solución para un peso de 0\")\n",
        "nodos_sol1 = solucion1[1]\n",
        "\n",
        "if solucion2:\n",
        "  print(\"Encontró una solución para un peso de 0.8\")\n",
        "else:\n",
        "  print(\"No encontró solución para un peso de 0.8\")\n",
        "nodos_sol2 = solucion2[1]\n",
        "\n",
        "if solucion3:\n",
        "  print(\"Encontró una solución para un peso de 1\")\n",
        "else:\n",
        "  print(\"No se encontró solución para un peso de 1.\")\n",
        "nodos_sol3 = solucion3[1]"
      ],
      "metadata": {
        "colab": {
          "base_uri": "https://localhost:8080/",
          "height": 346
        },
        "id": "MuYR-htOBWNN",
        "outputId": "d3eca4ca-85b8-451c-99f9-781cc3d28980"
      },
      "execution_count": null,
      "outputs": [
        {
          "output_type": "error",
          "ename": "NameError",
          "evalue": "name 'Puzzle8' is not defined",
          "traceback": [
            "\u001b[0;31m---------------------------------------------------------------------------\u001b[0m",
            "\u001b[0;31mNameError\u001b[0m                                 Traceback (most recent call last)",
            "\u001b[0;32m<ipython-input-3-18bd1fe33416>\u001b[0m in \u001b[0;36m<cell line: 8>\u001b[0;34m()\u001b[0m\n\u001b[1;32m      6\u001b[0m \u001b[0;34m\u001b[0m\u001b[0m\n\u001b[1;32m      7\u001b[0m \u001b[0;34m\u001b[0m\u001b[0m\n\u001b[0;32m----> 8\u001b[0;31m \u001b[0msolucion1\u001b[0m \u001b[0;34m=\u001b[0m \u001b[0mAp\u001b[0m\u001b[0;34m(\u001b[0m\u001b[0mestado_inicial\u001b[0m\u001b[0;34m,\u001b[0m\u001b[0;36m0\u001b[0m\u001b[0;34m)\u001b[0m\u001b[0;34m\u001b[0m\u001b[0;34m\u001b[0m\u001b[0m\n\u001b[0m\u001b[1;32m      9\u001b[0m \u001b[0msolucion2\u001b[0m \u001b[0;34m=\u001b[0m \u001b[0mAp\u001b[0m\u001b[0;34m(\u001b[0m\u001b[0mestado_inicial\u001b[0m\u001b[0;34m,\u001b[0m\u001b[0;36m0.8\u001b[0m\u001b[0;34m)\u001b[0m\u001b[0;34m\u001b[0m\u001b[0;34m\u001b[0m\u001b[0m\n\u001b[1;32m     10\u001b[0m \u001b[0msolucion3\u001b[0m \u001b[0;34m=\u001b[0m \u001b[0mAp\u001b[0m\u001b[0;34m(\u001b[0m\u001b[0mestado_inicial\u001b[0m\u001b[0;34m,\u001b[0m\u001b[0;36m1\u001b[0m\u001b[0;34m)\u001b[0m\u001b[0;34m\u001b[0m\u001b[0;34m\u001b[0m\u001b[0m\n",
            "\u001b[0;32m<ipython-input-2-1d102fea7d49>\u001b[0m in \u001b[0;36mAp\u001b[0;34m(initial_state, peso)\u001b[0m\n\u001b[1;32m      2\u001b[0m \u001b[0;34m\u001b[0m\u001b[0m\n\u001b[1;32m      3\u001b[0m \u001b[0;32mdef\u001b[0m \u001b[0mAp\u001b[0m\u001b[0;34m(\u001b[0m\u001b[0minitial_state\u001b[0m\u001b[0;34m,\u001b[0m\u001b[0mpeso\u001b[0m\u001b[0;34m)\u001b[0m\u001b[0;34m:\u001b[0m\u001b[0;34m\u001b[0m\u001b[0;34m\u001b[0m\u001b[0m\n\u001b[0;32m----> 4\u001b[0;31m   \u001b[0mstack\u001b[0m \u001b[0;34m=\u001b[0m \u001b[0;34m[\u001b[0m\u001b[0mPuzzle8\u001b[0m\u001b[0;34m(\u001b[0m\u001b[0minitial_state\u001b[0m\u001b[0;34m)\u001b[0m\u001b[0;34m]\u001b[0m\u001b[0;34m\u001b[0m\u001b[0;34m\u001b[0m\u001b[0m\n\u001b[0m\u001b[1;32m      5\u001b[0m   \u001b[0mvisited\u001b[0m \u001b[0;34m=\u001b[0m \u001b[0mset\u001b[0m\u001b[0;34m(\u001b[0m\u001b[0;34m)\u001b[0m\u001b[0;34m\u001b[0m\u001b[0;34m\u001b[0m\u001b[0m\n\u001b[1;32m      6\u001b[0m   \u001b[0mnum_nodos\u001b[0m \u001b[0;34m=\u001b[0m \u001b[0;36m0\u001b[0m\u001b[0;34m\u001b[0m\u001b[0;34m\u001b[0m\u001b[0m\n",
            "\u001b[0;31mNameError\u001b[0m: name 'Puzzle8' is not defined"
          ]
        }
      ]
    },
    {
      "cell_type": "markdown",
      "source": [
        "#### 6. Compara el numero de nodos expandidos con cada valor de los pesos."
      ],
      "metadata": {
        "id": "5wibBd8zrhuh"
      }
    },
    {
      "cell_type": "code",
      "source": [
        "print(\"Número de nodos con peso de 0:\\n\", nodos_sol1)\n",
        "print(\"Número de nodos con peso de 0.8:\\n\", nodos_sol2)\n",
        "print(\"Número de nodos con peso de 1:\\n\", nodos_sol3)"
      ],
      "metadata": {
        "id": "_40GghnJriCy",
        "colab": {
          "base_uri": "https://localhost:8080/"
        },
        "outputId": "f48c0078-ce20-44c7-bdee-93c86ca5fbc3"
      },
      "execution_count": null,
      "outputs": [
        {
          "output_type": "stream",
          "name": "stdout",
          "text": [
            "Número de nodos con peso de 0:\n",
            " 40955\n",
            "Número de nodos con peso de 0.8:\n",
            " 6443\n",
            "Número de nodos con peso de 1:\n",
            " 5899\n"
          ]
        }
      ]
    }
  ]
}